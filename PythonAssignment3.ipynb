{
 "cells": [
  {
   "cell_type": "raw",
   "metadata": {},
   "source": [
    "1.1 Write a Python Program to implement your own myreduce() function which works exactly like Python's built-in function reduce() "
   ]
  },
  {
   "cell_type": "code",
   "execution_count": 14,
   "metadata": {},
   "outputs": [
    {
     "name": "stdout",
     "output_type": "stream",
     "text": [
      "10918\n"
     ]
    }
   ],
   "source": [
    "def myReduce(myfun, iterable):\n",
    "    outputValue = 0\n",
    "    for x in iterable:\n",
    "        outputValue = myfun(outputValue, x)\n",
    "    print(outputValue)\n",
    "lis = [10909,2,3,4]\n",
    "myReduce(lambda a,b : a+b,lis)"
   ]
  },
  {
   "cell_type": "raw",
   "metadata": {},
   "source": [
    "1.2 Write a Python program to implement your own myfilter() function which works exactly like Python's built-in function filter() "
   ]
  },
  {
   "cell_type": "code",
   "execution_count": 19,
   "metadata": {},
   "outputs": [
    {
     "name": "stdout",
     "output_type": "stream",
     "text": [
      "The filtered letters are:\n",
      "e\n",
      "e\n"
     ]
    }
   ],
   "source": [
    "def myFilter(myfun, lst):\n",
    "    outputList = []\n",
    "    for x in lst:\n",
    "        if myfun(x) == True:\n",
    "            outputList.append(x)\n",
    "    return outputList"
   ]
  },
  {
   "cell_type": "raw",
   "metadata": {},
   "source": [
    " 2-   Write List comprehensions to produce the following Lists\n",
    "\n",
    "a. ['x', 'xx', 'xxx', 'xxxx', 'y', 'yy', 'yyy', 'yyyy', 'z', 'zz', 'zzz', 'zzzz']\n",
    "\n",
    "b. ['x', 'y', 'z', 'xx', 'yy', 'zz', 'xxx', 'yyy', 'zzz', 'xxxx', 'yyyy', 'zzzz']\n",
    "\n",
    "c. [[2], [3], [4], [3], [4], [5], [4], [5], [6]]\n",
    "\n",
    "d. [[2, 3, 4, 5], [3, 4, 5, 6], [4, 5, 6, 7], [5, 6, 7, 8]]\n",
    "\n",
    "e. [(1, 1), (2, 1), (3, 1), (1, 2), (2, 2), (3, 2), (1, 3), (2, 3), (3, 3)]\n"
   ]
  },
  {
   "cell_type": "code",
   "execution_count": 6,
   "metadata": {},
   "outputs": [
    {
     "name": "stdout",
     "output_type": "stream",
     "text": [
      "['x', 'xx', 'xxx', 'xxxx', 'y', 'yy', 'yyy', 'yyyy', 'z', 'zz', 'zzz', 'zzzz']\n"
     ]
    }
   ],
   "source": [
    "#2(a)\n",
    "lst=['x','y','z']\n",
    "tot=[[i,i*2,i*3,i*4] for i in lst]\n",
    "flatten=[val for sublist in tot for val in sublist]\n",
    "print(flatten)"
   ]
  },
  {
   "cell_type": "code",
   "execution_count": 7,
   "metadata": {},
   "outputs": [
    {
     "name": "stdout",
     "output_type": "stream",
     "text": [
      "['x', 'y', 'z', 'xx', 'yy', 'zz', 'xxx', 'yyy', 'zzz', 'xxxx', 'yyyy', 'zzzz']\n"
     ]
    }
   ],
   "source": [
    "#2(b)\n",
    "lis=['x','y','z']\n",
    "matrix=[[i,i*2,i*3,i*4] for i in lis]\n",
    "m=[[j[i]for j in matrix] for i in range(4)]\n",
    "flat=[ ele for sublist1 in m for ele in sublist1]\n",
    "print(flat)"
   ]
  },
  {
   "cell_type": "code",
   "execution_count": 10,
   "metadata": {},
   "outputs": [
    {
     "name": "stdout",
     "output_type": "stream",
     "text": [
      "[[2], [3], [4], [3], [4], [5], [4], [5], [6]]\n"
     ]
    }
   ],
   "source": [
    "#2(c)\n",
    "\n",
    "items=range(2,5)\n",
    "k=[[x,x+1,x+2] for x in items]\n",
    "y=[[u] for v in k for u in v]\n",
    "print(y)"
   ]
  },
  {
   "cell_type": "code",
   "execution_count": 9,
   "metadata": {},
   "outputs": [
    {
     "name": "stdout",
     "output_type": "stream",
     "text": [
      "[(1, 1), (2, 1), (3, 1), (1, 2), (2, 2), (3, 2), (1, 3), (2, 3), (3, 3)]\n"
     ]
    }
   ],
   "source": [
    "#2(e)\n",
    "\n",
    "numbers=range(1,4)\n",
    "t=[(i,j) for j in numbers for i in numbers]\n",
    "print(t)\n"
   ]
  },
  {
   "cell_type": "code",
   "execution_count": null,
   "metadata": {},
   "outputs": [],
   "source": []
  }
 ],
 "metadata": {
  "kernelspec": {
   "display_name": "Python 3",
   "language": "python",
   "name": "python3"
  },
  "language_info": {
   "codemirror_mode": {
    "name": "ipython",
    "version": 3
   },
   "file_extension": ".py",
   "mimetype": "text/x-python",
   "name": "python",
   "nbconvert_exporter": "python",
   "pygments_lexer": "ipython3",
   "version": "3.7.3"
  }
 },
 "nbformat": 4,
 "nbformat_minor": 2
}
