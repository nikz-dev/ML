{
 "cells": [
  {
   "cell_type": "raw",
   "metadata": {},
   "source": [
    "1.1 Write a Python Program(with class concepts) to find the area of the triangle using the below formula. \n",
    "area = (s*(s-a)*(s-b)*(s-c)) ** 0.5 \n",
    "Function to take the length of the sides of triangle from user should be defined in the parent class and function to calculate the area should be defined in subclass. \n"
   ]
  },
  {
   "cell_type": "code",
   "execution_count": 34,
   "metadata": {},
   "outputs": [
    {
     "name": "stdout",
     "output_type": "stream",
     "text": [
      "Enter side of triangle 23\n",
      "Enter side of triangle 23\n",
      "Enter side of triangle 23\n",
      "area is  229.06371930098402\n"
     ]
    }
   ],
   "source": [
    "class UserInput:\n",
    "    a = int(input(\"Enter side of triangle \"))\n",
    "    b = int(input(\"Enter side of triangle \"))\n",
    "    c = int(input(\"Enter side of triangle \"))\n",
    "class AreaCalculation(UserInput):\n",
    "    def calculateArea(self):\n",
    "        s = (self.a+self.b+self.c)/2.0\n",
    "        area = (s*(s-self.a)*(s-self.b)*(s-self.c)) ** 0.5\n",
    "        print(\"area is \",area)\n",
    "    \n",
    "obj = AreaCalculation()\n",
    "obj.calculateArea()\n",
    "\n",
    "    "
   ]
  },
  {
   "cell_type": "raw",
   "metadata": {},
   "source": [
    "1.2 Write a function filter_long_words() that takes a list of words and an integer n and returns the list of words that are longer than n. \n"
   ]
  },
  {
   "cell_type": "code",
   "execution_count": 25,
   "metadata": {},
   "outputs": [
    {
     "name": "stdout",
     "output_type": "stream",
     "text": [
      "['werwerwerlknfkjf', 'rweriyweuiryuiwey']\n"
     ]
    }
   ],
   "source": [
    "def filter_long_words(listOfWords, n):\n",
    "    longThanN = []\n",
    "    for word in listOfWords:\n",
    "        if len(word) > n:\n",
    "            longThanN.append(word)\n",
    "    print(longThanN)\n",
    "filter_long_words([\"wefsdf\",\"wewewrw\",\"werwerewr\",\"werwerwerre\",\"werwerwer\",\"werwerwer\",\"werwerwerlknfkjf\",\"rweriyweuiryuiwey\"],15)"
   ]
  },
  {
   "cell_type": "raw",
   "metadata": {},
   "source": [
    "2.1 Write a Python program using function concept that maps list of words into a list of integers representing the lengths of the corresponding words. \n"
   ]
  },
  {
   "cell_type": "code",
   "execution_count": 27,
   "metadata": {},
   "outputs": [
    {
     "name": "stdout",
     "output_type": "stream",
     "text": [
      "[6, 7, 9, 11, 9, 9, 16, 17]\n"
     ]
    }
   ],
   "source": [
    "def wordLength(providedList):\n",
    "    lenCounter = []\n",
    "    for lst in providedList:\n",
    "        lenCounter.append(len(lst))\n",
    "    print(lenCounter)\n",
    "wordLength([\"wefsdf\",\"wewewrw\",\"werwerewr\",\"werwerwerre\",\"werwerwer\",\"werwerwer\",\"werwerwerlknfkjf\",\"rweriyweuiryuiwey\"])\n",
    "        "
   ]
  },
  {
   "cell_type": "raw",
   "metadata": {},
   "source": [
    "2.2 Write a Python function which takes a character (i.e. a string of length 1) and returns True if it is a vowel, False otherwise. "
   ]
  },
  {
   "cell_type": "code",
   "execution_count": 33,
   "metadata": {},
   "outputs": [
    {
     "data": {
      "text/plain": [
       "True"
      ]
     },
     "execution_count": 33,
     "metadata": {},
     "output_type": "execute_result"
    }
   ],
   "source": [
    "def checkVowel(ch):\n",
    "    if(ch=='A' or ch=='a' or ch=='E' or ch =='e' or ch=='I' or ch=='i' or ch=='O' or ch=='o' or ch=='U' or ch=='u'):\n",
    "        return True\n",
    "    else:\n",
    "        return False\n",
    "\n",
    "checkVowel(\"u\")\n",
    "    "
   ]
  },
  {
   "cell_type": "code",
   "execution_count": null,
   "metadata": {},
   "outputs": [],
   "source": []
  }
 ],
 "metadata": {
  "kernelspec": {
   "display_name": "Python 3",
   "language": "python",
   "name": "python3"
  },
  "language_info": {
   "codemirror_mode": {
    "name": "ipython",
    "version": 3
   },
   "file_extension": ".py",
   "mimetype": "text/x-python",
   "name": "python",
   "nbconvert_exporter": "python",
   "pygments_lexer": "ipython3",
   "version": "3.7.3"
  }
 },
 "nbformat": 4,
 "nbformat_minor": 2
}
